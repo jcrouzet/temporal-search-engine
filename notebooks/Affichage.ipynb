{
 "cells": [
  {
   "cell_type": "code",
   "execution_count": 5,
   "metadata": {
    "collapsed": true
   },
   "outputs": [],
   "source": [
    "import os\n",
    "def touch(path):\n",
    "    with open(path, 'a'):\n",
    "        os.utime(path, None)\n",
    "touch('page.html')\n",
    "lignes[0]=lignes[0].replace('ï»¿','')"
   ]
  },
  {
   "cell_type": "code",
   "execution_count": 3,
   "metadata": {
    "collapsed": false
   },
   "outputs": [],
   "source": [
    "def coppy(r,w):\n",
    "    lignes  = r.readlines()\n",
    "    for i in range(len(lignes)):\n",
    "        w.write(lignes[i])\n",
    "    return()\n",
    "\n",
    "\n",
    "begin = open('begin.txt','r')\n",
    "json = open('results.js','r')\n",
    "end = open('end.txt','r')\n",
    "f = open('page.html', 'w')\n",
    "coppy(begin,f)\n",
    "coppy(json,f)\n",
    "coppy(end,f)\n",
    "f.close()\n",
    "f.close()\n",
    "begin.close()\n",
    "end.close()\n",
    "json.close()"
   ]
  }
 ],
 "metadata": {
  "anaconda-cloud": {},
  "kernelspec": {
   "display_name": "Python [conda root]",
   "language": "python",
   "name": "conda-root-py"
  },
  "language_info": {
   "codemirror_mode": {
    "name": "ipython",
    "version": 2
   },
   "file_extension": ".py",
   "mimetype": "text/x-python",
   "name": "python",
   "nbconvert_exporter": "python",
   "pygments_lexer": "ipython2",
   "version": "2.7.12"
  }
 },
 "nbformat": 4,
 "nbformat_minor": 0
}
